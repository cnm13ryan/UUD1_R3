{
 "cells": [
  {
   "cell_type": "code",
   "execution_count": 1,
   "id": "08ba97f3",
   "metadata": {},
   "outputs": [],
   "source": [
    "import numpy as np"
   ]
  },
  {
   "cell_type": "markdown",
   "id": "d126615d",
   "metadata": {},
   "source": [
    "# Determine the heat transfer coefficient\n",
    "\n",
    "Since the formation of clusters from individual solid particles is a feature of three-phase fluidized beds [1]. \n",
    "\n",
    "Thus, we are using a cluster-based approach instead of a particle-based approach to describe heat transfer behaviour which studies unsteady state heat transfer between particle pockets as they are in contact with the hot surface [2]. \n",
    "\n",
    "For more details of the model, you can refer to [1]."
   ]
  },
  {
   "cell_type": "code",
   "execution_count": 2,
   "id": "2976e51b",
   "metadata": {},
   "outputs": [],
   "source": [
    "def sigmoid(x):\n",
    "    \"\"\"Sigmoid activation function.\"\"\"\n",
    "    # Clip x to avoid overflow in exp\n",
    "    # 709 is chosen because np.exp(709) is close to the max float value\n",
    "    x_clipped = np.clip(x, -709, 709) \n",
    "    return 1 / (1 + np.exp(-x_clipped))\n",
    "\n",
    "def linear(x):\n",
    "    \"\"\"Linear activation function.\"\"\"\n",
    "    return x\n",
    "\n",
    "class SimpleNN:\n",
    "    def __init__(self, weights_hidden, biases_hidden, weights_output, bias_output):\n",
    "        \"\"\"Initialize the neural network with weights and biases.\"\"\"\n",
    "        self.weights_hidden = weights_hidden\n",
    "        self.biases_hidden = biases_hidden\n",
    "        self.weights_output = weights_output\n",
    "        self.bias_output = bias_output\n",
    "\n",
    "    def forward_pass(self, x):\n",
    "        \"\"\"Perform a forward pass.\"\"\"\n",
    "        # Hidden layer\n",
    "        z_hidden = np.dot(x, self.weights_hidden) + self.biases_hidden\n",
    "        a_hidden = sigmoid(z_hidden)\n",
    "        \n",
    "        \n",
    "        # Output layer\n",
    "        z_output = np.dot(a_hidden, self.weights_output) + self.bias_output\n",
    "        output = linear(z_output)\n",
    "        \n",
    "        return output\n",
    "\n",
    "weights_hidden = np.array([\n",
    "    [-1.493, 0.744, 0.027, -0.383],\n",
    "    [-9.428, 3.782, 6.941, -1.303],\n",
    "    [-0.493, -0.375, -3.549, -0.584],\n",
    "    [0.403, -0.102, -25.824, 32.324]\n",
    "])\n",
    "\n",
    "biases_hidden = np.array([0.047, 0.614, -4.519, 14.174])\n",
    "weights_output = np.array([[-3.488], [2.653], [12.414], [2.238]])\n",
    "bias_output = np.array([9.367])\n",
    "\n",
    "# Initialize the neural network with the provided weights and biases\n",
    "nn = SimpleNN(weights_hidden, biases_hidden, weights_output, bias_output)"
   ]
  },
  {
   "cell_type": "code",
   "execution_count": 4,
   "id": "884f2393",
   "metadata": {},
   "outputs": [
    {
     "name": "stdout",
     "output_type": "stream",
     "text": [
      "Network output (h): [24.434] [W / m^2 / s]\n"
     ]
    }
   ],
   "source": [
    "# Input\n",
    "input_size = 5  \n",
    "\n",
    "# x = (d_p [m], \\rho_p [kg / m^3], D_t [m], U_g [m/s])\n",
    "# d_p is the particle diameter [m]\n",
    "# \\rho_p is the particle density [kg / m^3]\n",
    "# D_t is the hydraulic diameter of the bed [m] which is the diameter of the reactor tube [m]\n",
    "# U_g is the liquid velocity [m/s]\n",
    "\n",
    "x = np.array([3.5e-3, 1.72e5, 5, 66])\n",
    "\n",
    "# Perform a forward pass\n",
    "output = nn.forward_pass(x)\n",
    "print(f\"Network output (h): {output} [W / m^2 / s]\")\n"
   ]
  },
  {
   "cell_type": "markdown",
   "id": "a0b15e67",
   "metadata": {},
   "source": [
    "# References\n",
    "\n",
    "[1]: F. S. Mjalli and A. Al-Mfargi, “Artificial Neural Approach for Modeling the Heat and Mass Transfer Characteristics in Three-Phase Fluidized Beds,” Industrial & Engineering Chemistry Research, vol. 47, no. 13, pp. 4542–4552, May 2008, doi: https://doi.org/10.1021/ie0715714.\n",
    "\n",
    "[2]: H. S. Mickley and D. F. Fairbanks, “Mechanism of heat transfer to fluidized beds,” vol. 1, no. 3, pp. 374–384, Sep. 1955, doi: https://doi.org/10.1002/aic.690010317."
   ]
  }
 ],
 "metadata": {
  "kernelspec": {
   "display_name": "Python 3 (ipykernel)",
   "language": "python",
   "name": "python3"
  },
  "language_info": {
   "codemirror_mode": {
    "name": "ipython",
    "version": 3
   },
   "file_extension": ".py",
   "mimetype": "text/x-python",
   "name": "python",
   "nbconvert_exporter": "python",
   "pygments_lexer": "ipython3",
   "version": "3.10.9"
  }
 },
 "nbformat": 4,
 "nbformat_minor": 5
}
