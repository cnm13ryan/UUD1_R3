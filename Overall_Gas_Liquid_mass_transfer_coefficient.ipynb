{
 "cells": [
  {
   "cell_type": "code",
   "execution_count": 1,
   "id": "08ba97f3",
   "metadata": {},
   "outputs": [],
   "source": [
    "import numpy as np"
   ]
  },
  {
   "cell_type": "markdown",
   "id": "d126615d",
   "metadata": {},
   "source": [
    "# Determine the overall gas-liquid mass transfer coefficient \n",
    "\n",
    "Assume that the gas-side mass transfer resistance is negligible as liquid is the continuous phase in the three-phase fluidized bed reactor. \n",
    "\n",
    "The overall gas-liquid mass transfer coefficient will be equal to the volumetric liquid-side mass transfer coefficient, $k_l a$, where $k_l$ is the liquid-side mass transfer coefficient and $a$ is the gas-liquid interfacial area per unit volume of the bed. \n",
    "\n",
    "In this case, we use an ANN approach, which takes into account of 6 literature reported models to correlate the parameter needed for our reactor design [1]."
   ]
  },
  {
   "cell_type": "code",
   "execution_count": 2,
   "id": "5f136eba",
   "metadata": {},
   "outputs": [],
   "source": [
    "def sigmoid(x):\n",
    "    \"\"\"Sigmoid activation function.\"\"\"\n",
    "    # Clip x to avoid overflow in exp\n",
    "    # 709 is chosen because np.exp(709) is close to the max float value\n",
    "    x_clipped = np.clip(x, -709, 709) \n",
    "    return 1 / (1 + np.exp(-x_clipped))\n",
    "\n",
    "def linear(x):\n",
    "    \"\"\"Linear activation function.\"\"\"\n",
    "    return x"
   ]
  },
  {
   "cell_type": "code",
   "execution_count": 3,
   "id": "2976e51b",
   "metadata": {},
   "outputs": [],
   "source": [
    "class SimpleNN:\n",
    "    def __init__(self, weights_hidden, biases_hidden, weights_output, bias_output):\n",
    "        \"\"\"Initialize the neural network with weights and biases.\"\"\"\n",
    "        self.weights_hidden = weights_hidden\n",
    "        self.biases_hidden = biases_hidden\n",
    "        self.weights_output = weights_output\n",
    "        self.bias_output = bias_output\n",
    "\n",
    "    def forward_pass(self, x):\n",
    "        \"\"\"Perform a forward pass.\"\"\"\n",
    "        # Hidden layer\n",
    "        z_hidden = np.dot(x, self.weights_hidden) + self.biases_hidden\n",
    "        a_hidden = sigmoid(z_hidden)\n",
    "        \n",
    "        \n",
    "        # Output layer\n",
    "        z_output = np.dot(a_hidden, self.weights_output) + self.bias_output\n",
    "        output = linear(z_output)\n",
    "        \n",
    "        return output"
   ]
  },
  {
   "cell_type": "code",
   "execution_count": 4,
   "id": "c7339e2c",
   "metadata": {},
   "outputs": [],
   "source": [
    "# Mass transfer parameters from the image\n",
    "weights_hidden = np.array([\n",
    "    [2.173, -0.087, 0.369, -0.353, -2.287],\n",
    "    [-1.481, 0.937, -0.162, -1.244, 2.948],\n",
    "    [-2.315, 1.186, -0.837, 0.620, -0.083],\n",
    "    [1.042, 1.215, -1.050, 0.558, -4.776],\n",
    "    [-3.180, 1.968, -1.054, 1.470, -0.721]\n",
    "])\n",
    "\n",
    "biases_hidden = np.array([-2.785, 1.203, -0.217, -2.255, 0.248])\n",
    "weights_output = np.array([[0.831], [1.314], [-1.527], [0.845], [0.856]])\n",
    "bias_output = np.array([-0.4126])\n",
    "\n",
    "# Initialize the neural network with the provided weights and biases\n",
    "nn = SimpleNN(weights_hidden, biases_hidden, weights_output, bias_output)"
   ]
  },
  {
   "cell_type": "code",
   "execution_count": 5,
   "id": "884f2393",
   "metadata": {},
   "outputs": [
    {
     "name": "stdout",
     "output_type": "stream",
     "text": [
      "Network output (k_l a): [1.7574] [s^-1]\n"
     ]
    }
   ],
   "source": [
    "# Input\n",
    "input_size = 5  \n",
    "\n",
    "# x = (d_p [m], \\rho_p [kg / m^3], U_l [m/s], U_g [m/s], \\varepsilon_s)\n",
    "# d_p is the particle diameter [m]\n",
    "# \\rho_p is the particle density [kg / m^3]\n",
    "# U_l is the gas velocity [m/s]\n",
    "# U_g is the liquid velocity [m/s]\n",
    "# \\varepsilon_s is the solid holdup [n.d] \n",
    "\n",
    "x = np.array([3.5e-3, 1.72e5, 5, 66, 0.2])\n",
    "\n",
    "# Perform a forward pass\n",
    "output = nn.forward_pass(x)\n",
    "print(f\"Network output (k_l a): {output} [s^{-1}]\")\n"
   ]
  },
  {
   "cell_type": "markdown",
   "id": "a0b15e67",
   "metadata": {},
   "source": [
    "# References\n",
    "\n",
    "[1]: F. S. Mjalli and A. Al-Mfargi, “Artificial Neural Approach for Modeling the Heat and Mass Transfer Characteristics in Three-Phase Fluidized Beds,” Industrial & Engineering Chemistry Research, vol. 47, no. 13, pp. 4542–4552, May 2008, doi: https://doi.org/10.1021/ie0715714."
   ]
  }
 ],
 "metadata": {
  "kernelspec": {
   "display_name": "Python 3 (ipykernel)",
   "language": "python",
   "name": "python3"
  },
  "language_info": {
   "codemirror_mode": {
    "name": "ipython",
    "version": 3
   },
   "file_extension": ".py",
   "mimetype": "text/x-python",
   "name": "python",
   "nbconvert_exporter": "python",
   "pygments_lexer": "ipython3",
   "version": "3.10.9"
  }
 },
 "nbformat": 4,
 "nbformat_minor": 5
}
