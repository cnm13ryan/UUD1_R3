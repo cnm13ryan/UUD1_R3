{
 "cells": [
  {
   "cell_type": "code",
   "execution_count": 1,
   "id": "604e6d6d",
   "metadata": {},
   "outputs": [],
   "source": [
    "import numpy as np\n",
    "from scipy.optimize import fsolve\n",
    "import math\n",
    "import matplotlib.pyplot as plt\n",
    "from mpl_toolkits.mplot3d import Axes3D\n",
    "plt.rcParams['text.usetex'] = True"
   ]
  },
  {
   "cell_type": "markdown",
   "id": "c642b69b",
   "metadata": {},
   "source": [
    "## We will continue from the results obtained from the material balance simulation script\n",
    "\n",
    "### We will first estimate how many reactors do we need to fulfill the production requirement:\n",
    "\n",
    "The production requirement: \n",
    "\n",
    "Inlet gas mass flow rate: $Q_g = 1030 \\left[\\dfrac{kg}{hr}\\right]$ \n",
    "\n",
    "Inlet liquid mass flow rate: $Q_l = 24986 \\left[\\dfrac{kg}{hr}\\right]$ \n",
    "\n"
   ]
  },
  {
   "cell_type": "markdown",
   "id": "2e58da72",
   "metadata": {},
   "source": [
    "## We will now calculate what is the mass flow rate of one fluidized bed reactor (column)\n",
    "\n",
    "Inner column diameter: $D_c = 0.2 [m]$\n",
    "\n",
    "Inlet Gas velocity: $U_g = 30 \\left[\\dfrac{m}{s}\\right]$\n",
    "\n",
    "Inlet Liquid velocity: $U_l = 5 \\left[\\dfrac{m}{s}\\right]$\n",
    "\n",
    "Inlet Gas Density: $\\rho_g = 3 \\left[\\dfrac{kg}{m^3}\\right]$\n",
    "\n",
    "Inlet Liquid Density: $\\rho_l = 730 \\left[\\dfrac{kg}{m^3}\\right]$"
   ]
  },
  {
   "cell_type": "code",
   "execution_count": 2,
   "id": "9ec27b3a",
   "metadata": {},
   "outputs": [],
   "source": [
    "diameter_column = 0.2 # m\n",
    "\n",
    "velocity_gas = 30  # m/s\n",
    "\n",
    "velocity_liquid = 5  # m/s\n",
    "\n",
    "density_gas = 3  # kg/m^3\n",
    "\n",
    "density_liquid = 730  # kg/m^3"
   ]
  },
  {
   "cell_type": "markdown",
   "id": "b2ab70aa",
   "metadata": {},
   "source": [
    "$$\n",
    "A = \\dfrac{\\pi \\cdot D_c^2}{4} \\hspace{1cm} \\text{Cross sectional area of the column $[m^2]$}\n",
    "$$\n",
    "\n",
    "$$\n",
    "Q_g' = \\rho_g \\left[\\dfrac{kg}{m^3}\\right] \\cdot A [m^2] \\cdot U_g \\left[\\dfrac{m}{s}\\right]  \\cdot 60 \\left[\\dfrac{s}{min}\\right] \\cdot 60 \\left[\\dfrac{min}{hr}\\right]\n",
    "$$\n",
    "\n",
    "\n",
    "$$\n",
    "Q_l' = \\rho_l \\left[\\dfrac{kg}{m^3}\\right] \\cdot A [m^2] \\cdot U_l \\left[\\dfrac{m}{s}\\right] \\cdot 60 \\left[\\dfrac{s}{min}\\right] \\cdot 60 \\left[\\dfrac{min}{hr}\\right]\n",
    "$$"
   ]
  },
  {
   "cell_type": "code",
   "execution_count": 8,
   "id": "3a1fdf5b",
   "metadata": {},
   "outputs": [
    {
     "name": "stdout",
     "output_type": "stream",
     "text": [
      "The mass flow rate of gas per reactor: 10178.8 [kg / hr]\n",
      "The mass flow rate of liquid per reactor: 412805.3 [kg / hr]\n"
     ]
    }
   ],
   "source": [
    "# Cross-sectional area of the column\n",
    "area_column = math.pi * (diameter_column**2) / 4\n",
    "\n",
    "# Calculating mass flow rate for gas [kg / s]\n",
    "mass_flow_rate_gas = density_gas * area_column * velocity_gas  * 60 * 60\n",
    "\n",
    "# Calculating mass flow rate for liquid [kg / hr]\n",
    "mass_flow_rate_liquid = density_liquid * area_column * velocity_liquid * 60 * 60\n",
    "\n",
    "print(f\"The mass flow rate of gas per reactor: {mass_flow_rate_gas:.1f} [kg / hr]\")\n",
    "\n",
    "print(f\"The mass flow rate of liquid per reactor: {mass_flow_rate_liquid:.1f} [kg / hr]\")\n"
   ]
  }
 ],
 "metadata": {
  "kernelspec": {
   "display_name": "Python 3 (ipykernel)",
   "language": "python",
   "name": "python3"
  },
  "language_info": {
   "codemirror_mode": {
    "name": "ipython",
    "version": 3
   },
   "file_extension": ".py",
   "mimetype": "text/x-python",
   "name": "python",
   "nbconvert_exporter": "python",
   "pygments_lexer": "ipython3",
   "version": "3.10.9"
  }
 },
 "nbformat": 4,
 "nbformat_minor": 5
}
